{
 "cells": [
  {
   "cell_type": "markdown",
   "id": "5ec368b3",
   "metadata": {},
   "source": [
    "# BCB546 Python Assignment Notebook\n",
    "\n",
    "Assignment: Complete Dr. X's script in a Jupyter notebook.\n",
    "\n",
    "1. Document Dr. X's function with comments and with markdown test. \n",
    "2. Write a function that translates a string of nucleotides to amino acids.\n",
    "3. Write an alternative translation function.\n",
    "4. Write a funciton that calculates the molecular weight of each 3 amino acid sequence.\n",
    "5. Write a functio that computes the GC-content of each DNA sequence.\n",
    "6. Add two new columns to the penguin DataFrame: (1) molecular weight and (2) GC content.\n",
    "7. Call your functions from step 3 (or step 2) and step 4 and fill in the new columns in the DataFrame.\n",
    "8. Plot a bar-chart of adult body mass per species. In your description of the graph, provide text that answers these questions: \n",
    "    a. What is the smallest penguin species? \n",
    "    b. What is the geographical range of this species?\n",
    "9. Plot a graph that shows the molecular weight as a function of GC content. \n",
    "10. Write the entire DataFrame to a new CSV file that includes your new columns.\n",
    "11. BONUS: What other visualizations, functions or tasks would you do with this dataset? Add something interesting for fun. (0.5 additional points if your total score is < 15)."
   ]
  },
  {
   "cell_type": "code",
   "execution_count": 1,
   "id": "91f11008",
   "metadata": {},
   "outputs": [],
   "source": [
    "# install biopython for using this script and import the following:\n",
    "\n",
    "from Bio import SeqIO\n",
    "from Bio.Data import CodonTable\n",
    "import pandas as pd\n",
    "from Bio.Seq import Seq\n",
    "from Bio.SeqUtils.ProtParam import ProteinAnalysis\n",
    "import numpy as np"
   ]
  },
  {
   "cell_type": "markdown",
   "id": "5fa89f49",
   "metadata": {},
   "source": [
    "## Function 1\n",
    "\n",
    "Dr. X: This function gets sequences.\n",
    "\n",
    "``` get_sequences_from_file(fasta_fn) ```\n",
    "\n",
    "This function takes a .fasta file name as the input and returns a dictornary with species names as keys and sequences as the value. It assumes that the species name is two words after the identifier."
   ]
  },
  {
   "cell_type": "code",
   "execution_count": null,
   "id": "1df02e29",
   "metadata": {},
   "outputs": [],
   "source": [
    "def get_sequences_from_file(fasta_fn): #this will be the function that we run to create a directory from our fasta file\n",
    "    sequence_data_dict = {} #creates a directory\n",
    "    for record in SeqIO.parse(fasta_fn, \"fasta\"): #uses SeqIO to parse fasta file and extract sequence data\n",
    "        description = record.description.split() #splits the record.decription string value and give variable name \"discription\"\n",
    "        species_name = description[1] + \" \" + description[2] #assumes that the species name is formated in two words seperated by a space\n",
    "        sequence_data_dict[species_name] = record.seq #species name is a key and the sequence is the value\n",
    "    return(sequence_data_dict) #returns the completed directory"
   ]
  },
  {
   "cell_type": "code",
   "execution_count": 2,
   "id": "8b2b060a",
   "metadata": {},
   "outputs": [],
   "source": [
    "#functioning for our files\n",
    "\n",
    "def get_sequences_from_file(fasta_fn): \n",
    "    sequence_data_dict = {}\n",
    "    for record in SeqIO.parse(\"penguins_cytb.fasta\",\"fasta\"):\n",
    "        description = record.description.split()\n",
    "        species_name = description[1] + \" \" + description[2]\n",
    "        sequence_data_dict[species_name] = record.seq\n",
    "    return(sequence_data_dict)"
   ]
  },
  {
   "cell_type": "markdown",
   "id": "3d8bed14",
   "metadata": {},
   "source": [
    "## Function 2\n",
    "\n",
    "Function that translates sequences.\n",
    "\n",
    "``` translate_function(nucleotides) ```\n",
    "\n",
    "This is the function that will be used to translate a string of nucleotides to amino acids.\n",
    "\n",
    "**Resources Used**\n",
    "\n",
    "https://www.digitalocean.com/community/tutorials/how-to-use-break-continue-and-pass-statements-when-working-with-loops-in-python-3\n",
    "\n",
    "https://www.codecademy.com/learn/introduction-to-python-dvp/modules/python-syntax-dvp/cheatsheet\n"
   ]
  },
  {
   "cell_type": "code",
   "execution_count": null,
   "id": "739186ea",
   "metadata": {},
   "outputs": [],
   "source": [
    "# psuedo-code provided by Dr. X\n",
    "def translate_function(string_nucleotides): \n",
    "     mito_table = CodonTable.unambiguous_dna_by_name[\"Vertebrate Mitochondrial\"] # this should work using BioPython (be sure to check what this returns)\n",
    "     for-loop through every 3rd position in string_nucleotides to get the codon using range subsets\n",
    "         # IMPORTANT: if the sequence has a stop codon at the end, you should leave it off\n",
    "         # this is how you can retrieve the amino acid: mito_table.forward_table[codon]\n",
    "         add the aa to aa_seq_string\n",
    "     return(aa_seq_string)"
   ]
  },
  {
   "cell_type": "code",
   "execution_count": 4,
   "id": "89eaccb6",
   "metadata": {},
   "outputs": [
    {
     "name": "stdout",
     "output_type": "stream",
     "text": [
      "Table 2 Vertebrate Mitochondrial, SGC1\n",
      "\n",
      "  |  T      |  C      |  A      |  G      |\n",
      "--+---------+---------+---------+---------+--\n",
      "T | TTT F   | TCT S   | TAT Y   | TGT C   | T\n",
      "T | TTC F   | TCC S   | TAC Y   | TGC C   | C\n",
      "T | TTA L   | TCA S   | TAA Stop| TGA W   | A\n",
      "T | TTG L   | TCG S   | TAG Stop| TGG W   | G\n",
      "--+---------+---------+---------+---------+--\n",
      "C | CTT L   | CCT P   | CAT H   | CGT R   | T\n",
      "C | CTC L   | CCC P   | CAC H   | CGC R   | C\n",
      "C | CTA L   | CCA P   | CAA Q   | CGA R   | A\n",
      "C | CTG L   | CCG P   | CAG Q   | CGG R   | G\n",
      "--+---------+---------+---------+---------+--\n",
      "A | ATT I(s)| ACT T   | AAT N   | AGT S   | T\n",
      "A | ATC I(s)| ACC T   | AAC N   | AGC S   | C\n",
      "A | ATA M(s)| ACA T   | AAA K   | AGA Stop| A\n",
      "A | ATG M(s)| ACG T   | AAG K   | AGG Stop| G\n",
      "--+---------+---------+---------+---------+--\n",
      "G | GTT V   | GCT A   | GAT D   | GGT G   | T\n",
      "G | GTC V   | GCC A   | GAC D   | GGC G   | C\n",
      "G | GTA V   | GCA A   | GAA E   | GGA G   | A\n",
      "G | GTG V(s)| GCG A   | GAG E   | GGG G   | G\n",
      "--+---------+---------+---------+---------+--\n"
     ]
    }
   ],
   "source": [
    "mito_table = CodonTable.unambiguous_dna_by_name[\"Vertebrate Mitochondrial\"]\n",
    "print(mito_table)\n",
    "# gives us a codon to amino acid table"
   ]
  },
  {
   "cell_type": "code",
   "execution_count": null,
   "id": "49d601f9",
   "metadata": {},
   "outputs": [],
   "source": [
    "# make empty string to store translated sequence\n",
    "aa_seq_string = []\n",
    "\n",
    "# make empty string to store codons\n",
    "codons = []\n",
    "\n",
    "# loop through every 3rd position in string_nucleotides (input) to get codon\n",
    "for i in range (0, len(string_nucleotides), 3):\n",
    "    \n",
    "    #gets a codon length of 3 and adds it to our 'codons' list\n",
    "    codon= string_nucleotides[i,i+3]\n",
    "    \n",
    "    \n",
    "    #check for stop codons, and terminate for loop at stop codon\n",
    "    if codon in [\"TAA\", \"TAG\", \"AGA\", \"AGG\"]:\n",
    "        break\n",
    "    codons.append(codon) # adds our codon to the 'codons' list if it is not a stop codon\n",
    "    \n",
    "    #retrieve amino acid from codon sequence \n",
    "    mito_table.forward_table[codon]\n",
    "    \n",
    "    #adds amino acids to 'aa_seq_string' and will concatonate\n",
    "    aa_seq_string += mito_table.forward_table[codon]\n",
    "\n",
    "print(aa_seq_string) # will print our amino acids sequence\n",
    "print(codons) # will print our codons"
   ]
  },
  {
   "cell_type": "code",
   "execution_count": 3,
   "id": "4d44caad",
   "metadata": {},
   "outputs": [],
   "source": [
    "#defined function for use\n",
    "\n",
    "def translate_function(nucleotides):\n",
    "    codons = []\n",
    "    aa_seq_string = \"\"\n",
    "    \n",
    "    for i in range (0, len(nucleotides), 3):\n",
    "        codon = nucleotides[i:i+3]\n",
    "        if codon in [\"TAA\", \"TAG\", \"AGA\", \"AGG\"]:\n",
    "            break\n",
    "        codons.append(codon)\n",
    "    \n",
    "        aa_seq_string += mito_table.forward_table[codon]\n",
    "    return aa_seq_string"
   ]
  },
  {
   "cell_type": "code",
   "execution_count": null,
   "id": "15f69fb2",
   "metadata": {},
   "outputs": [],
   "source": [
    "#example of funcitonal code\n",
    "\n",
    "nucleotides = \"TGTGCGACCTAA\"\n",
    "codons = []\n",
    "aa_seq_string = \"\"\n",
    "\n",
    "for i in range (0, len(nucleotides), 3):\n",
    "    codon = nucleotides[i:i+3]\n",
    "    if codon in [\"TAA\", \"TAG\", \"AGA\", \"AGG\"]:\n",
    "        break\n",
    "    codons.append(codon)\n",
    "    aa_seq_string += mito_table.forward_table[codon]\n",
    "\n",
    "print(aa_seq_string)\n",
    "print(codons)"
   ]
  },
  {
   "cell_type": "code",
   "execution_count": 5,
   "id": "bca1a301",
   "metadata": {},
   "outputs": [
    {
     "data": {
      "text/plain": [
       "'CAT'"
      ]
     },
     "execution_count": 5,
     "metadata": {},
     "output_type": "execute_result"
    }
   ],
   "source": [
    "#test run\n",
    "\n",
    "translate_function(\"TGTGCGACCTAA\")"
   ]
  },
  {
   "cell_type": "markdown",
   "id": "d134892f",
   "metadata": {},
   "source": [
    "## Fucntion 3\n",
    "\n",
    "Alternative function for translation.\n",
    "\n",
    "```translate_BioSeq(nucleotides)```\n",
    "\n",
    "Using an avaible function for BioPythong library, will need install Bio.Seq using the following:\n",
    "\n",
    "```from Bio.Seq import Seq```\n",
    "\n",
    "**Resources Used**\n",
    "\n",
    "https://biopython.org/docs/1.78/api/Bio.Seq.html"
   ]
  },
  {
   "cell_type": "code",
   "execution_count": null,
   "id": "d3d61ed9",
   "metadata": {},
   "outputs": [],
   "source": [
    "#in BioPython Bio.Seq module, there is a translate function that translates nucleotide strings to amino acid strings\n",
    "#input is a string of nucleotides\n",
    "\n",
    "Seq.translate(nucleotides, table=2, to_stop=True)\n",
    "\n",
    "#table 2 refers to the codon table for \"Vertibrate Mitochoindrial\"\n",
    "# to_stop=True is fereing to stopping at stop codons\n",
    "\n",
    "return seq_string #returns the amino acid string as the output"
   ]
  },
  {
   "cell_type": "code",
   "execution_count": 6,
   "id": "1dec6164",
   "metadata": {},
   "outputs": [],
   "source": [
    "# definded function for use\n",
    "\n",
    "def translate_BioSeq(nucleotides):\n",
    "    seq_string = Seq.translate(nucleotides, table=2, to_stop=True)\n",
    "    return seq_string"
   ]
  },
  {
   "cell_type": "code",
   "execution_count": 7,
   "id": "1096c2ed",
   "metadata": {},
   "outputs": [
    {
     "data": {
      "text/plain": [
       "Seq('CAT')"
      ]
     },
     "execution_count": 7,
     "metadata": {},
     "output_type": "execute_result"
    }
   ],
   "source": [
    "# Example of use and test run\n",
    "\n",
    "translate_BioSeq(\"TGTGCGACCTAA\")"
   ]
  },
  {
   "cell_type": "markdown",
   "id": "ca92e980",
   "metadata": {},
   "source": [
    "## Function 4\n",
    "\n",
    "Write a funciton that calculates the molecular weight of amino acid sequences. \n",
    "\n",
    "```compute_molecular_weight(aa_seq)```\n",
    "\n",
    "Uses the module below:\n",
    "\n",
    "```from Bio.SeqUtils.ProtParam import ProteinAnalysis```\n",
    "\n",
    "**Resources Used**\n",
    "\n",
    "https://biopython.org/wiki/ProtParam"
   ]
  },
  {
   "cell_type": "code",
   "execution_count": null,
   "id": "930889c8",
   "metadata": {},
   "outputs": [],
   "source": [
    "#psuedo code from Dr.X\n",
    "\n",
    "# you should import the following before defining your function:\n",
    "from Bio.SeqUtils.ProtParam import ProteinAnalysis\n",
    "\n",
    "def compute_molecular_weight(aa_seq):\n",
    "     # I think the ProtParam functions may require aa_seq to be a string.\n",
    "     # It may not work if the amino acid sequence has stop codons.\n",
    "   run the ProteinAnalysis() function on aa_seq\n",
    "return the molecular weight"
   ]
  },
  {
   "cell_type": "code",
   "execution_count": 8,
   "id": "ac2b595c",
   "metadata": {},
   "outputs": [
    {
     "name": "stdout",
     "output_type": "stream",
     "text": [
      "<Bio.SeqUtils.ProtParam.ProteinAnalysis object at 0x0000026BDDC38460>\n"
     ]
    }
   ],
   "source": [
    "#testing output of ProteinAnalysis\n",
    "\n",
    "temp_aa = ProteinAnalysis(\"CAT\")\n",
    "print(temp_aa)"
   ]
  },
  {
   "cell_type": "code",
   "execution_count": 9,
   "id": "240b5529",
   "metadata": {
    "scrolled": true
   },
   "outputs": [
    {
     "name": "stdout",
     "output_type": "stream",
     "text": [
      "293.34\n"
     ]
    }
   ],
   "source": [
    "#testing molecular.weight output\n",
    "\n",
    "molecular_weight = temp_aa.molecular_weight()\n",
    "print(molecular_weight)"
   ]
  },
  {
   "cell_type": "code",
   "execution_count": null,
   "id": "70d325f8",
   "metadata": {},
   "outputs": [],
   "source": [
    "# uses ProteinAnalysis on an amino acids string (makes sure it is a protein) and stores the variable in 'temp_aa' \n",
    "temp_aa = ProteinAnalysis(aa_seq)\n",
    "\n",
    "# uses molecular.weight function to find the molucular weight of the vcariable stored in 'temp_aa' and places it in 'molecular_weight'\n",
    " molecular_weight = temp_aa.molecular_weight()\n",
    "    return molecular_weight #returns the molecular weight"
   ]
  },
  {
   "cell_type": "code",
   "execution_count": 10,
   "id": "20da796c",
   "metadata": {},
   "outputs": [],
   "source": [
    "#defined function for use\n",
    "\n",
    "def compute_molecular_weight(aa_seq):\n",
    "    temp_aa = ProteinAnalysis(aa_seq)\n",
    "    molecular_weight = temp_aa.molecular_weight()\n",
    "    return molecular_weight"
   ]
  },
  {
   "cell_type": "code",
   "execution_count": 11,
   "id": "17048185",
   "metadata": {},
   "outputs": [
    {
     "data": {
      "text/plain": [
       "293.34"
      ]
     },
     "execution_count": 11,
     "metadata": {},
     "output_type": "execute_result"
    }
   ],
   "source": [
    "#testing function\n",
    "\n",
    "compute_molecular_weight(\"CAT\")"
   ]
  },
  {
   "cell_type": "markdown",
   "id": "6ee6b575",
   "metadata": {},
   "source": [
    "## Function 5\n",
    "\n",
    "The following is a function for calculating the GC content in a DNA sequence.\n",
    "\n",
    "```gc_content(nucleotides)```\n",
    "\n",
    "\n",
    "**Resources Used**\n",
    "\n",
    "https://www.labxchange.org/library/items/lb:LabXchange:a6c1b925:video:1?source=%2Flibrary%2Fclusters%2Flx-cluster%3Aabe-italiano\n"
   ]
  },
  {
   "cell_type": "code",
   "execution_count": 12,
   "id": "d81c0fa3",
   "metadata": {},
   "outputs": [
    {
     "name": "stdout",
     "output_type": "stream",
     "text": [
      "50.0\n"
     ]
    }
   ],
   "source": [
    "# test script\n",
    "\n",
    "sequence = (\"TGTGCGACCTAA\")\n",
    "\n",
    "gc_content = (sequence.count(\"C\") + sequence.count(\"G\")) / len(sequence) * 100\n",
    "\n",
    "print(gc_content)"
   ]
  },
  {
   "cell_type": "code",
   "execution_count": null,
   "id": "fac45377",
   "metadata": {},
   "outputs": [],
   "source": [
    "#setting up our nucleotides to a variable\n",
    "sequence = (nucleotides)\n",
    "\n",
    "#gc_content is the total count of \"C\" and \"G\" within our sequence, divided by the length of our sequence, times 100 for percentage\n",
    "gc_content = (sequence.count(\"C\") + sequence.count(\"G\")) / len(sequence) * 100\n",
    "\n",
    "#return/print our value for gc_content\n",
    "   return gc_content"
   ]
  },
  {
   "cell_type": "code",
   "execution_count": 13,
   "id": "b7936472",
   "metadata": {},
   "outputs": [],
   "source": [
    "#defined fuction for use\n",
    "\n",
    "def compute_gc_content(nucleotides):\n",
    "    sequence = (nucleotides)\n",
    "    gc_content = (sequence.count(\"C\") + sequence.count(\"G\")) / len(sequence) * 100\n",
    "    return gc_content"
   ]
  },
  {
   "cell_type": "code",
   "execution_count": 14,
   "id": "1ebea761",
   "metadata": {},
   "outputs": [
    {
     "data": {
      "text/plain": [
       "50.0"
      ]
     },
     "execution_count": 14,
     "metadata": {},
     "output_type": "execute_result"
    }
   ],
   "source": [
    "#Testing fucntion\n",
    "\n",
    "compute_gc_content(\"TGTGCGACCTAA\")"
   ]
  },
  {
   "cell_type": "markdown",
   "id": "2558e226",
   "metadata": {},
   "source": [
    "## Main"
   ]
  },
  {
   "cell_type": "code",
   "execution_count": 15,
   "id": "246bc2a3",
   "metadata": {},
   "outputs": [],
   "source": [
    "cytb_seqs = get_sequences_from_file(\"penguins_cytb.fasta\") \n",
    "\n",
    "penguins_df = pd.read_csv(\"penguins_mass.csv\") # Includes only data for body mass \n",
    "species_list = list(penguins_df.species)"
   ]
  },
  {
   "cell_type": "code",
   "execution_count": 16,
   "id": "ed0f26b4",
   "metadata": {},
   "outputs": [
    {
     "name": "stdout",
     "output_type": "stream",
     "text": [
      "{'Aptenodytes forsteri': Seq('ATGGCCCCAAATCTCCGAAAATCCCATCCCCTCCTAAAAATAATTAATAACTCC...TAA'), 'Aptenodytes patagonicus': Seq('ATGGCCCCAAACCTCCGAAAATCCCATCCTCTCCTAAAAATAATTAATAACTCC...TAA'), 'Eudyptes chrysocome': Seq('ATGGCCCCCAACCTCCGAAAATCCCACCCCCTCCTAAAAACAATCAATAACTCC...TAA'), 'Eudyptes chrysolophus': Seq('ATGGCCCCCAACCTCCGAAAATCCCACCCCCTCCTAAAAACAATCAATAACTCC...TAA'), 'Eudyptes sclateri': Seq('ATGGCCCCCAACCTCCGAAAATCCCACCCCCTCCTAAAAACAATCAATAACTCC...TAA'), 'Eudyptula minor': Seq('ATGGCCCCCAACCTCCGAAAATCTCACCCCCTCCTAAAAATAATCAACAACTCT...TAA'), 'Pygoscelis adeliae': Seq('ATGGCCCCCAACCTCCGAAAATCCCACCCTCTCCTAAAAATAATTAACAACTCC...TAA'), 'Pygoscelis antarctica': Seq('ATGGCCCCCAACCTCCGAAAATCCCACCCTCTCCTAAAAATAATCAACAACTCC...TAG'), 'Pygoscelis papua': Seq('ATGGCCCCCAACCTTCGAAAATCCCACCCTCTCCTAAAAATAATCAACAAATCC...TAG'), 'Spheniscus demersus': Seq('ATGGCCCCCAACCTCCGAAAATCCCACCCTCTCCTAAAAACAATCAACAACTCC...TAA'), 'Spheniscus humboldti': Seq('ATGGCCCCCAACCTCCGAAAATCCCACCCTCTCCTAAAAACAATCAACAACTCC...TAA'), 'Spheniscus magellanicus': Seq('ATGGCCCCCAACCTCCGAAAATCCCACCCTCTCCTAAAAACAATCAACAACTCC...TAA')}\n"
     ]
    }
   ],
   "source": [
    "print(cytb_seqs)"
   ]
  },
  {
   "cell_type": "code",
   "execution_count": 17,
   "id": "c19b3fb2",
   "metadata": {},
   "outputs": [
    {
     "name": "stdout",
     "output_type": "stream",
     "text": [
      "                    species   mass\n",
      "0      Aptenodytes forsteri  28.00\n",
      "1   Aptenodytes patagonicus  13.40\n",
      "2       Eudyptes chrysocome   2.80\n",
      "3     Eudyptes chrysolophus   4.50\n",
      "4         Eudyptes sclateri   4.25\n",
      "5           Eudyptula minor   1.60\n",
      "6        Pygoscelis adeliae   4.60\n",
      "7     Pygoscelis antarctica   4.10\n",
      "8          Pygoscelis papua   6.10\n",
      "9       Spheniscus demersus   3.20\n",
      "10     Spheniscus humboldti   4.75\n",
      "11  Spheniscus magellanicus   3.40\n"
     ]
    }
   ],
   "source": [
    "print(penguins_df)"
   ]
  },
  {
   "cell_type": "code",
   "execution_count": 18,
   "id": "ecb06a20",
   "metadata": {},
   "outputs": [
    {
     "name": "stdout",
     "output_type": "stream",
     "text": [
      "['Aptenodytes forsteri', 'Aptenodytes patagonicus', 'Eudyptes chrysocome', 'Eudyptes chrysolophus', 'Eudyptes sclateri', 'Eudyptula minor', 'Pygoscelis adeliae', 'Pygoscelis antarctica', 'Pygoscelis papua', 'Spheniscus demersus', 'Spheniscus humboldti', 'Spheniscus magellanicus']\n"
     ]
    }
   ],
   "source": [
    "print(species_list)"
   ]
  },
  {
   "cell_type": "markdown",
   "id": "49119a19",
   "metadata": {},
   "source": [
    "## Function 6\n",
    "\n",
    "Uses the following module:\n",
    "\n",
    "```import numpy as np```\n",
    "\n",
    "1. Add two new columns to the penquin DataFrame: (1) molecular weight and (2) GC content.\n",
    "2. Set the value to 'NaN' to indicate that these cells are currently empty."
   ]
  },
  {
   "cell_type": "code",
   "execution_count": 21,
   "id": "dbf6faef",
   "metadata": {},
   "outputs": [
    {
     "name": "stdout",
     "output_type": "stream",
     "text": [
      "                    species   mass  molecular_weight  GC_content\n",
      "0      Aptenodytes forsteri  28.00               NaN         NaN\n",
      "1   Aptenodytes patagonicus  13.40               NaN         NaN\n",
      "2       Eudyptes chrysocome   2.80               NaN         NaN\n",
      "3     Eudyptes chrysolophus   4.50               NaN         NaN\n",
      "4         Eudyptes sclateri   4.25               NaN         NaN\n",
      "5           Eudyptula minor   1.60               NaN         NaN\n",
      "6        Pygoscelis adeliae   4.60               NaN         NaN\n",
      "7     Pygoscelis antarctica   4.10               NaN         NaN\n",
      "8          Pygoscelis papua   6.10               NaN         NaN\n",
      "9       Spheniscus demersus   3.20               NaN         NaN\n",
      "10     Spheniscus humboldti   4.75               NaN         NaN\n",
      "11  Spheniscus magellanicus   3.40               NaN         NaN\n"
     ]
    }
   ],
   "source": [
    "# add moleculare_weight as a column to 'penguins_df' and set all values to NaN\n",
    "penguins_df[\"molecular_weight\"] = np.nan\n",
    "\n",
    "# add GC_content as a colum to 'penguins_df' and sett all values to NaN\n",
    "penguins_df[\"GC_content\"] = np.nan\n",
    "\n",
    "print(penguins_df)"
   ]
  },
  {
   "cell_type": "markdown",
   "id": "85fc38ca",
   "metadata": {},
   "source": [
    "## Function 7\n",
    "\n",
    "Write a for-loop that translates each sequence and also gets molecular weight and computes the GC content of each translated sequence and adds those data to 'penguins_df'."
   ]
  },
  {
   "cell_type": "code",
   "execution_count": null,
   "id": "03845b6f",
   "metadata": {},
   "outputs": [],
   "source": [
    "# from Dr. X:\n",
    "\n",
    "for key, value in cytb_seqs.items():\n",
    "     aa_seq = nuc2aa_translate_function(value) # whichever function you prefer of #2 or #3\n",
    "     #get the molecular weight of aa_seq\n",
    "     #get the GC content of the DNA sequence\n",
    "     #fill in empty cells in DF that you created above"
   ]
  },
  {
   "cell_type": "code",
   "execution_count": 27,
   "id": "828656f6",
   "metadata": {},
   "outputs": [
    {
     "name": "stdout",
     "output_type": "stream",
     "text": [
      "                    species   mass  molecular_weight  GC_content\n",
      "0      Aptenodytes forsteri  28.00        42459.6021   48.381452\n",
      "1   Aptenodytes patagonicus  13.40        42563.7067   49.693788\n",
      "2       Eudyptes chrysocome   2.80        42475.5753   51.181102\n",
      "3     Eudyptes chrysolophus   4.50        42445.5493   50.918635\n",
      "4         Eudyptes sclateri   4.25        42475.5753   50.831146\n",
      "5           Eudyptula minor   1.60        42491.6408   49.256343\n",
      "6        Pygoscelis adeliae   4.60        42458.6140   49.081365\n",
      "7     Pygoscelis antarctica   4.10        42404.5423   47.769029\n",
      "8          Pygoscelis papua   6.10        42595.8759   47.156605\n",
      "9       Spheniscus demersus   3.20        42431.5490   48.293963\n",
      "10     Spheniscus humboldti   4.75        42399.5520   49.256343\n",
      "11  Spheniscus magellanicus   3.40        42459.6021   48.206474\n"
     ]
    }
   ],
   "source": [
    "# initialize empty lists for storage of molecule weight and GC content\n",
    "mol_wt_list = []\n",
    "gc_list = []\n",
    "\n",
    "# key referece to species and value refers to sequence valuse assigned to that species\n",
    "for key, value in cytb_seqs.items ():\n",
    "    \n",
    "    # translate sequence using function 3\n",
    "    aa_seq = translate_BioSeq(value)\n",
    "    \n",
    "    # compute molecular weight using function 4 ; aa_seq needs to be a string\n",
    "    molecular_weight = compute_molecular_weight(str(aa_seq))\n",
    "    \n",
    "    # compute GC content using function 5\n",
    "    gc_content = compute_gc_content(value)\n",
    "\n",
    "    # append our mol_wt_list and gc_list\n",
    "    mol_wt_list.append(molecular_weight)\n",
    "    gc_list.append(gc_content)\n",
    "    \n",
    "# update values in our 'penguins_df'\n",
    "penguins_df[\"molecular_weight\"] = mol_wt_list\n",
    "penguins_df[\"GC_content\"] = gc_list\n",
    "    \n",
    "print(penguins_df)"
   ]
  },
  {
   "cell_type": "code",
   "execution_count": null,
   "id": "5cb67bb5",
   "metadata": {},
   "outputs": [],
   "source": [
    "# defined script:\n",
    "\n",
    "mol_wt_list = []\n",
    "gc_list = []\n",
    "\n",
    "for key, value in cytb_seqs.items ():\n",
    "    aa_seq = translate_BioSeq(value)\n",
    "    molecular_weight = compute_molecular_weight(str(aa_seq))\n",
    "    gc_content = compute_gc_content(value)\n",
    "    mol_wt_list.append(molecular_weight)\n",
    "    gc_list.append(gc_content)\n",
    "    \n",
    "penguins_df[\"molecular_weight\"] = mol_wt_list\n",
    "penguins_df[\"GC_content\"] = gc_list\n",
    "    \n",
    "print(penguins_df)"
   ]
  },
  {
   "cell_type": "markdown",
   "id": "9bd7061e",
   "metadata": {},
   "source": [
    "## Function 8\n",
    "\n",
    "Plot a bar-chart of the mass with the x-axes labeled with species names.\n",
    "\n",
    "**Q1** What is the smallest penguin species?\n",
    "\n",
    "**A1** Eudyptula minor\n",
    "\n",
    "**Q2** What is the geographical range of this species?\n",
    "    \n",
    "**A2** They are found throughout southern Austrila and New Zealand\n",
    "    \n",
    "**Resource Used**\n",
    " \n",
    "https://www.marinebio.org/species/little-blue-penguins/eudyptula-minor/#:~:text=World%20Range%20%26%20Habitat&text=Breeding%20colonies%20of%20little%20blue,southern%20Australia%20and%20New%20Zealand."
   ]
  },
  {
   "cell_type": "code",
   "execution_count": 28,
   "id": "a9d1051e",
   "metadata": {},
   "outputs": [
    {
     "data": {
      "text/plain": [
       "<Axes: title={'center': 'Mass by species'}, xlabel='species'>"
      ]
     },
     "execution_count": 28,
     "metadata": {},
     "output_type": "execute_result"
    },
    {
     "data": {
      "image/png": "[encoded data removed]",
      "text/plain": [
       "<Figure size 640x480 with 1 Axes>"
      ]
     },
     "metadata": {},
     "output_type": "display_data"
    }
   ],
   "source": [
    "# Plot for Q1 answer\n",
    "\n",
    "penguins_df.plot(kind='bar', x='species', y='mass', title='Mass by species')"
   ]
  },
  {
   "cell_type": "markdown",
   "id": "da400ef2",
   "metadata": {},
   "source": [
    "## Function 9\n",
    "\n",
    "Plot a visualization of the molecular weight (y-axis) as a function of GC-content (x-axis)."
   ]
  },
  {
   "cell_type": "code",
   "execution_count": 34,
   "id": "b9a456a0",
   "metadata": {},
   "outputs": [
    {
     "data": {
      "text/plain": [
       "<Axes: title={'center': 'Molecular weight as a function of GC content'}, xlabel='GC_content', ylabel='molecular_weight'>"
      ]
     },
     "execution_count": 34,
     "metadata": {},
     "output_type": "execute_result"
    },
    {
     "data": {
      "image/png": "[encoded data removed]",
      "text/plain": [
       "<Figure size 640x480 with 1 Axes>"
      ]
     },
     "metadata": {},
     "output_type": "display_data"
    }
   ],
   "source": [
    "# scatter plot for visuallizing molecular weight as a function of GC content\n",
    "\n",
    "penguins_df.plot(kind='scatter', x=\"GC_content\", y=\"molecular_weight\", title= \"Molecular weight as a function of GC content\")"
   ]
  },
  {
   "cell_type": "markdown",
   "id": "2654f23b",
   "metadata": {},
   "source": [
    "## Function 10\n",
    "\n",
    "Save the new DataFrame to a file called \"penguins_mass_cytb.csv\""
   ]
  },
  {
   "cell_type": "code",
   "execution_count": 38,
   "id": "c1252228",
   "metadata": {},
   "outputs": [],
   "source": [
    "# exports our data frame to a csv file ; index=False because we do not want to write row names\n",
    "\n",
    "penguins_df.to_csv(\"penguins_mass_cytb.csv\", index=False)"
   ]
  },
  {
   "cell_type": "markdown",
   "id": "0676c4b1",
   "metadata": {},
   "source": [
    "## Function 11: Bonus!\n",
    "\n",
    "What else can we do with this dataset in Python? \n",
    "\n",
    "Add functions or anything that might be interesting and fun. (optional)"
   ]
  },
  {
   "cell_type": "code",
   "execution_count": 39,
   "id": "185f76e4",
   "metadata": {},
   "outputs": [
    {
     "name": "stdout",
     "output_type": "stream",
     "text": [
      "                    species   mass  molecular_weight  GC_content\n",
      "0      Aptenodytes forsteri  28.00        42459.6021   48.381452\n",
      "1   Aptenodytes patagonicus  13.40        42563.7067   49.693788\n",
      "2       Eudyptes chrysocome   2.80        42475.5753   51.181102\n",
      "3     Eudyptes chrysolophus   4.50        42445.5493   50.918635\n",
      "4         Eudyptes sclateri   4.25        42475.5753   50.831146\n",
      "5           Eudyptula minor   1.60        42491.6408   49.256343\n",
      "6        Pygoscelis adeliae   4.60        42458.6140   49.081365\n",
      "7     Pygoscelis antarctica   4.10        42404.5423   47.769029\n",
      "8          Pygoscelis papua   6.10        42595.8759   47.156605\n",
      "9       Spheniscus demersus   3.20        42431.5490   48.293963\n",
      "10     Spheniscus humboldti   4.75        42399.5520   49.256343\n",
      "11  Spheniscus magellanicus   3.40        42459.6021   48.206474\n"
     ]
    }
   ],
   "source": [
    "# I want to read my csv file so that I know it exported correctly so we can re-read that\n",
    "\n",
    "new_penguin_file = pd.read_csv(\"penguins_mass_cytb.csv\")\n",
    "\n",
    "print(new_penguin_file)"
   ]
  },
  {
   "cell_type": "code",
   "execution_count": 40,
   "id": "6bc5a889",
   "metadata": {},
   "outputs": [
    {
     "data": {
      "text/plain": [
       "<Axes: title={'center': 'GC content by species'}, xlabel='species'>"
      ]
     },
     "execution_count": 40,
     "metadata": {},
     "output_type": "execute_result"
    },
    {
     "data": {
      "image/png": "[encoded data removed]",
      "text/plain": [
       "<Figure size 640x480 with 1 Axes>"
      ]
     },
     "metadata": {},
     "output_type": "display_data"
    }
   ],
   "source": [
    "# we can look at the GC content by species in a bar chart\n",
    "\n",
    "penguins_df.plot(kind='bar', x='species', y='GC_content', title='GC content by species')"
   ]
  }
 ],
 "metadata": {
  "kernelspec": {
   "display_name": "Python 3 (ipykernel)",
   "language": "python",
   "name": "python3"
  },
  "language_info": {
   "codemirror_mode": {
    "name": "ipython",
    "version": 3
   },
   "file_extension": ".py",
   "mimetype": "text/x-python",
   "name": "python",
   "nbconvert_exporter": "python",
   "pygments_lexer": "ipython3",
   "version": "3.10.9"
  }
 },
 "nbformat": 4,
 "nbformat_minor": 5
}
